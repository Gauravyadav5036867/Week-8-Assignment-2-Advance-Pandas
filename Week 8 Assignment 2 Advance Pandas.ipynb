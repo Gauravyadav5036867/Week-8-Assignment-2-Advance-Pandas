{
 "cells": [
  {
   "cell_type": "code",
   "execution_count": null,
   "id": "471c6334-7d34-408c-ac3c-f1f50d09e8dd",
   "metadata": {},
   "outputs": [],
   "source": [
    "#Question 1\n",
    "\n",
    "read_csv: Reads a comma-separated values (CSV) file into DataFrame.\n",
    "\n",
    "head: Returns the first n rows of a DataFrame.\n",
    "\n",
    "describe: Generates descriptive statistics of a DataFrame.\n",
    "\n",
    "groupby: Groups DataFrame using a mapper or by a Series of columns.\n",
    "\n",
    "merge: Merges DataFrame objects by performing a database-style join operation.\n",
    "\n",
    "\n",
    "import pandas as pd\n",
    "\n",
    "\n",
    "data = {\n",
    "    'Name': ['Alice', 'Bob', 'Charlie', 'David', 'Edward'],\n",
    "    'Age': [24, 27, 22, 32, 29],\n",
    "    'City': ['New York', 'Los Angeles', 'Chicago', 'Houston', 'Phoenix'],\n",
    "    'Salary': [70000, 80000, 65000, 90000, 60000]\n",
    "}\n",
    "\n",
    "\n",
    "df = pd.DataFrame(data)\n",
    "\n",
    "\n",
    "df.to_csv('/mnt/data/sample_data.csv', index=False)\n"
   ]
  },
  {
   "cell_type": "code",
   "execution_count": null,
   "id": "42a772a3-74f0-44c4-9c43-0b20bc669a6e",
   "metadata": {},
   "outputs": [],
   "source": [
    "#Question 2\n",
    "\n",
    "import pandas as pd\n",
    "\n",
    "def reindex_dataframe(df):\n",
    "   \n",
    "    new_index = range(1, 2 * len(df) + 1, 2)\n",
    "   \n",
    "    df.index = new_index\n",
    "    return df\n",
    "\n",
    "\n",
    "data = {\n",
    "    'A': [10, 20, 30, 40, 50],\n",
    "    'B': [5, 15, 25, 35, 45],\n",
    "    'C': [100, 200, 300, 400, 500]\n",
    "}\n",
    "\n",
    "df = pd.DataFrame(data)\n",
    "reindexed_df = reindex_dataframe(df)\n",
    "reindexed_df\n"
   ]
  },
  {
   "cell_type": "code",
   "execution_count": null,
   "id": "49331241-5343-467c-a4d9-223f56a27d3c",
   "metadata": {},
   "outputs": [],
   "source": [
    "#Question 3\n",
    "\n",
    "import pandas as pd\n",
    "\n",
    "def sum_first_three_values(df):\n",
    "    \n",
    "    if len(df['Values']) >= 3:\n",
    "        \n",
    "        total_sum = df['Values'].iloc[0] + df['Values'].iloc[1] + df['Values'].iloc[2]\n",
    "        print(f\"The sum of the first three values is: {total_sum}\")\n",
    "    else:\n",
    "        print(\"The 'Values' column has fewer than three values.\")\n",
    "\n",
    "\n",
    "data = {\n",
    "    'Values': [10, 20, 30, 40, 50]\n",
    "}\n",
    "\n",
    "df = pd.DataFrame(data)\n",
    "sum_first_three_values(df)\n"
   ]
  },
  {
   "cell_type": "code",
   "execution_count": null,
   "id": "97c0a1f7-896d-49bb-b3d4-e711cab16524",
   "metadata": {},
   "outputs": [],
   "source": [
    "#Question 4\n",
    "\n",
    "import pandas as pd\n",
    "\n",
    "def add_word_count_column(df):\n",
    "\n",
    "    df['Word_Count'] = df['Text'].apply(lambda x: len(str(x).split()))\n",
    "    return df\n",
    "\n",
    "data = {\n",
    "    'Text': ['Hello world', 'Pandas is great', 'Python programming', 'Data Science is fun']\n",
    "}\n",
    "\n",
    "df = pd.DataFrame(data)\n",
    "df = add_word_count_column(df)\n",
    "print(df)\n"
   ]
  },
  {
   "cell_type": "code",
   "execution_count": null,
   "id": "cf73c0cc-96ef-40ba-ad88-2e886cd7f24a",
   "metadata": {},
   "outputs": [],
   "source": [
    "#Question 5\n",
    "\n",
    "DataFrame.size:\n",
    "\n",
    "Definition: Returns the number of elements in the DataFrame.\n",
    "Calculation: It is equivalent to the number of rows multiplied by the number of columns.\n",
    "Usage: This attribute is useful when you need to know the total number of elements in the DataFrame, irrespective of its dimensions.\n",
    "\n",
    "\n",
    "DataFrame.shape:\n",
    "Definition: Returns a tuple representing the dimensionality of the DataFrame.\n",
    "Calculation: It returns a tuple in the form (number of rows, number of columns).\n",
    "Usage: This attribute is useful when you need to know the specific number of rows and columns in the DataFrame."
   ]
  },
  {
   "cell_type": "code",
   "execution_count": null,
   "id": "d0068a01-e390-4fae-a6e4-1dca6385a290",
   "metadata": {},
   "outputs": [],
   "source": [
    "#Question 6\n",
    "\n",
    "For using pandas, we first need to import them using the import pandas as pd command. Pandas read_excel() function is used for reading the Excel files."
   ]
  },
  {
   "cell_type": "code",
   "execution_count": null,
   "id": "b5e0e575-bcdf-4622-aab5-7a58ebf2f6c7",
   "metadata": {},
   "outputs": [],
   "source": [
    "#Question 7\n",
    "\n"
   ]
  }
 ],
 "metadata": {
  "kernelspec": {
   "display_name": "Python 3 (ipykernel)",
   "language": "python",
   "name": "python3"
  },
  "language_info": {
   "codemirror_mode": {
    "name": "ipython",
    "version": 3
   },
   "file_extension": ".py",
   "mimetype": "text/x-python",
   "name": "python",
   "nbconvert_exporter": "python",
   "pygments_lexer": "ipython3",
   "version": "3.10.8"
  }
 },
 "nbformat": 4,
 "nbformat_minor": 5
}
